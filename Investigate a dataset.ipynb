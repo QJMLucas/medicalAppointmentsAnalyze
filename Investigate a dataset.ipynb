{
 "cells": [
  {
   "cell_type": "markdown",
   "metadata": {},
   "source": [
    "__Introduction__\n",
    "====================\n",
    "***\n",
    "For this project, I will be investigating the dataset of over 100k medical appointments from Brazil, focused on whether or not patients show up for their medical appointments\n",
    "\n",
    "THe dataset has columns of various information about each appointment, including the age and gender of the patient, the date the appointment was scheduled as well as the date of the appointment, the neighbourhood the hospital is located, and information about the patient's ailment: Hypertension, Diabetes, Alcholism, Handicap, etc.\n",
    "\n",
    "**I will like to investiagte the following about the dataset:**\n",
    "1. Attendency of patients for male and female\n",
    "2. Number of patients with or without ailment and scholarship\n",
    "3. Number of appointments scheduled by gender and by age\n",
    "4. Age vs Probability of Showing for Appointment"
   ]
  },
  {
   "cell_type": "code",
   "execution_count": 535,
   "metadata": {},
   "outputs": [],
   "source": [
    "#import libraries sucha as pandas, numpy and matplotlib\n",
    "import pandas as pd\n",
    "import numpy as np\n",
    "import matplotlib.pyplot as plt\n",
    "\n",
    "#uses pandas to read file 'noshow.csv'\n",
    "df = pd.read_csv('noshow.csv')\n",
    "%matplotlib inline"
   ]
  },
  {
   "cell_type": "code",
   "execution_count": 564,
   "metadata": {},
   "outputs": [
    {
     "data": {
      "text/plain": [
       "array(['2016-04-29T00:00:00.000000000', '2016-05-03T00:00:00.000000000',\n",
       "       '2016-05-10T00:00:00.000000000', '2016-05-17T00:00:00.000000000',\n",
       "       '2016-05-24T00:00:00.000000000', '2016-05-31T00:00:00.000000000',\n",
       "       '2016-05-02T00:00:00.000000000', '2016-05-30T00:00:00.000000000',\n",
       "       '2016-05-16T00:00:00.000000000', '2016-05-04T00:00:00.000000000',\n",
       "       '2016-05-19T00:00:00.000000000', '2016-05-12T00:00:00.000000000',\n",
       "       '2016-05-06T00:00:00.000000000', '2016-05-20T00:00:00.000000000',\n",
       "       '2016-05-05T00:00:00.000000000', '2016-05-13T00:00:00.000000000',\n",
       "       '2016-05-09T00:00:00.000000000', '2016-05-25T00:00:00.000000000',\n",
       "       '2016-05-11T00:00:00.000000000', '2016-05-18T00:00:00.000000000',\n",
       "       '2016-05-14T00:00:00.000000000', '2016-06-02T00:00:00.000000000',\n",
       "       '2016-06-03T00:00:00.000000000', '2016-06-06T00:00:00.000000000',\n",
       "       '2016-06-07T00:00:00.000000000', '2016-06-01T00:00:00.000000000',\n",
       "       '2016-06-08T00:00:00.000000000'], dtype='datetime64[ns]')"
      ]
     },
     "execution_count": 564,
     "metadata": {},
     "output_type": "execute_result"
    }
   ],
   "source": [
    "#check the head of the file to see what does this file look like\n",
    "df.head()\n",
    "df['AppointmentDay'].unique()"
   ]
  },
  {
   "cell_type": "code",
   "execution_count": 537,
   "metadata": {},
   "outputs": [
    {
     "data": {
      "text/plain": [
       "PatientId         float64\n",
       "AppointmentID       int64\n",
       "Gender             object\n",
       "ScheduledDay       object\n",
       "AppointmentDay     object\n",
       "Age                 int64\n",
       "Neighbourhood      object\n",
       "Scholarship         int64\n",
       "Hipertension        int64\n",
       "Diabetes            int64\n",
       "Alcoholism          int64\n",
       "Handcap             int64\n",
       "SMS_received        int64\n",
       "No-show            object\n",
       "dtype: object"
      ]
     },
     "execution_count": 537,
     "metadata": {},
     "output_type": "execute_result"
    }
   ],
   "source": [
    "#check for data types of the dataframe\n",
    "df.dtypes"
   ]
  },
  {
   "cell_type": "code",
   "execution_count": 538,
   "metadata": {},
   "outputs": [
    {
     "data": {
      "text/plain": [
       "dtype('int64')"
      ]
     },
     "execution_count": 538,
     "metadata": {},
     "output_type": "execute_result"
    }
   ],
   "source": [
    "#Convert PatientId from float to int, although the patientID after conversion is really longbut the original ID \n",
    "#is not readable \n",
    "df['PatientId'] = df['PatientId'].astype(int)\n",
    "df['PatientId'].dtypes"
   ]
  },
  {
   "cell_type": "code",
   "execution_count": 539,
   "metadata": {},
   "outputs": [
    {
     "data": {
      "text/plain": [
       "PatientId                  int64\n",
       "AppointmentID              int64\n",
       "Gender                    object\n",
       "ScheduledDay      datetime64[ns]\n",
       "AppointmentDay    datetime64[ns]\n",
       "Age                        int64\n",
       "Neighbourhood             object\n",
       "Scholarship                int64\n",
       "Hipertension               int64\n",
       "Diabetes                   int64\n",
       "Alcoholism                 int64\n",
       "Handcap                    int64\n",
       "SMS_received               int64\n",
       "No-show                   object\n",
       "dtype: object"
      ]
     },
     "execution_count": 539,
     "metadata": {},
     "output_type": "execute_result"
    }
   ],
   "source": [
    "#Convert both ScheduledDay and AppointmentDay object to datetime just in case if i need to work with dates\n",
    "df['ScheduledDay'] = pd.to_datetime(df.ScheduledDay)\n",
    "df['AppointmentDay'] = pd.to_datetime(df.AppointmentDay)\n",
    "df.dtypes #check the date type again to see if the conversion is successful"
   ]
  },
  {
   "cell_type": "code",
   "execution_count": 540,
   "metadata": {},
   "outputs": [],
   "source": [
    "df = df[df.Age != -1] \n",
    "#I found a negative number in age so i dropped it by creating the dataframe without -1 for age"
   ]
  },
  {
   "cell_type": "code",
   "execution_count": 541,
   "metadata": {},
   "outputs": [
    {
     "data": {
      "text/plain": [
       "0"
      ]
     },
     "execution_count": 541,
     "metadata": {},
     "output_type": "execute_result"
    }
   ],
   "source": [
    "#check for duplications in the dataset\n",
    "df['PatientId'].duplicated().sum()        \n",
    "df['AppointmentID'].duplicated().sum()"
   ]
  },
  {
   "cell_type": "code",
   "execution_count": 542,
   "metadata": {},
   "outputs": [],
   "source": [
    "#rename columns name, replace - in column name with _, so that the column is callable with name\n",
    "df.columns = df.columns.str.replace('-','_')"
   ]
  },
  {
   "cell_type": "markdown",
   "metadata": {},
   "source": [
    "After the exploartion below, i have decided that i want to see the distribution for \n",
    "those people who received the sms message but did not show up.\n",
    "I also want to see separate them by if they have ailment and if they had scholarship\n",
    "Are the patients male dominant or female dominant."
   ]
  },
  {
   "cell_type": "code",
   "execution_count": 555,
   "metadata": {},
   "outputs": [],
   "source": [
    "#function built to calculate the attendancy of patients\n",
    "def per_noshow(DataFrame,feature,feature_value):\n",
    "    no_show = DataFrame[(DataFrame['No_show']=='Yes')&(DataFrame[feature]==feature_value)]['No_show'].count()\n",
    "    total =DataFrame[DataFrame[feature]==feature_value][feature].count()\n",
    "    return round((no_show))\n",
    "\n",
    "def per_show(DataFrame,feature,feature_value):\n",
    "    no_show = DataFrame[(DataFrame['No_show']=='No')&(DataFrame[feature]==feature_value)]['No_show'].count()\n",
    "    total =DataFrame[DataFrame[feature]==feature_value][feature].count()\n",
    "    return round((no_show))"
   ]
  },
  {
   "cell_type": "code",
   "execution_count": 524,
   "metadata": {},
   "outputs": [
    {
     "data": {
      "text/plain": [
       "PatientId         30962\n",
       "AppointmentID     30962\n",
       "Gender            30962\n",
       "ScheduledDay      30962\n",
       "AppointmentDay    30962\n",
       "Age               30962\n",
       "Neighbourhood     30962\n",
       "Scholarship       30962\n",
       "Hipertension      30962\n",
       "Diabetes          30962\n",
       "Alcoholism        30962\n",
       "Handcap           30962\n",
       "SMS_received      30962\n",
       "No_show           30962\n",
       "dtype: int64"
      ]
     },
     "execution_count": 524,
     "metadata": {},
     "output_type": "execute_result"
    }
   ],
   "source": [
    "#explore the distribution for not showing up in the appointment for male and female \n",
    "\n",
    "female_no_show = per_noshow(df,'Gender','F') #14594 \n",
    "male_no_show = per_noshow(df,'Gender','M') #7725\n",
    "\n",
    "female_show = per_show(df,'Gender','F') #57245\n",
    "male_show = per_show(df,'Gender','M') # 30962\n"
   ]
  },
  {
   "cell_type": "code",
   "execution_count": 561,
   "metadata": {},
   "outputs": [
    {
     "data": {
      "text/plain": [
       "Text(0.5,1,'Attendency of patients')"
      ]
     },
     "execution_count": 561,
     "metadata": {},
     "output_type": "execute_result"
    },
    {
     "data": {
      "image/png": "[encoded data removed]",
      "text/plain": [
       "<matplotlib.figure.Figure at 0x1495b25f8>"
      ]
     },
     "metadata": {},
     "output_type": "display_data"
    }
   ],
   "source": [
    "#draw the graph to visualise the distribution above\n",
    "plt.bar(['Female_show','Male_show','Female_no_show','Male_no_show'],[57245,30962,14594,7725]);\n",
    "plt.ylabel('Number of patients')\n",
    "plt.title('Attendency of patients')"
   ]
  },
  {
   "cell_type": "markdown",
   "metadata": {},
   "source": [
    "Below ar 8 selections for male and female patients who received the sms but did not show up \n",
    "other varibale are if they have welfare or not and if they have 0 or 1 or more ailment "
   ]
  },
  {
   "cell_type": "code",
   "execution_count": 325,
   "metadata": {},
   "outputs": [
    {
     "data": {
      "text/plain": [
       "Scholarship     799\n",
       "Hipertension    799\n",
       "Diabetes        799\n",
       "Alcoholism      799\n",
       "Handcap         799\n",
       "SMS_received    799\n",
       "No_show         799\n",
       "dtype: int64"
      ]
     },
     "execution_count": 325,
     "metadata": {},
     "output_type": "execute_result"
    }
   ],
   "source": [
    "\n",
    "#count patients-SMS received, did not show, Female with scholarship. have 1 or more symptoms listed \n",
    "df.loc[(df.SMS_received == 1) & (df.No_show == 'Yes') & (df.Gender == 'F') & \n",
    "       (df.Scholarship == 1)&((df.Hipertension == 1) | \n",
    "        (df.Diabetes== 1) | (df.Alcoholism ==1) | (df.Handcap ==1)),'Scholarship':].count()\n",
    "\n",
    "#SMS received, did not show, Female with scholarship. 0 symptoms listed \n",
    "df.loc[(df.SMS_received == 1) & (df.No_show == 'Yes') & (df.Gender == 'F') & \n",
    "       (df.Scholarship == 1) & (df.Hipertension == 0) & (df.Diabetes== 0) & (df.Alcoholism ==0)\n",
    "                                & (df.Handcap ==0),'Scholarship':].count()"
   ]
  },
  {
   "cell_type": "code",
   "execution_count": 326,
   "metadata": {},
   "outputs": [
    {
     "data": {
      "text/plain": [
       "Scholarship     154\n",
       "Hipertension    154\n",
       "Diabetes        154\n",
       "Alcoholism      154\n",
       "Handcap         154\n",
       "SMS_received    154\n",
       "No_show         154\n",
       "dtype: int64"
      ]
     },
     "execution_count": 326,
     "metadata": {},
     "output_type": "execute_result"
    }
   ],
   "source": [
    "#count patients-SMS received, did not show, Male with scholarship. have 1 or more symptoms listed \n",
    "df.loc[(df.SMS_received == 1) & (df.No_show == 'Yes') & (df.Gender == 'M') & \n",
    "       (df.Scholarship == 1) &((df.Hipertension == 1) | (df.Diabetes== 1) | (df.Alcoholism ==1) | \n",
    "                               (df.Handcap ==1)),'Scholarship':].count()\n",
    "\n",
    "#count patients-SMS received, did not show, Male with scholarship. have 0 symptoms listed \n",
    "df.loc[(df.SMS_received == 1) & (df.No_show == 'Yes') & (df.Gender == 'M') & \n",
    "       (df.Scholarship == 1) & (df.Hipertension == 0) & (df.Diabetes== 0) & (df.Alcoholism ==0) & \n",
    "                                (df.Handcap ==0),'Scholarship':].count()"
   ]
  },
  {
   "cell_type": "code",
   "execution_count": 327,
   "metadata": {},
   "outputs": [
    {
     "data": {
      "text/plain": [
       "Scholarship     579\n",
       "Hipertension    579\n",
       "Diabetes        579\n",
       "Alcoholism      579\n",
       "Handcap         579\n",
       "SMS_received    579\n",
       "No_show         579\n",
       "dtype: int64"
      ]
     },
     "execution_count": 327,
     "metadata": {},
     "output_type": "execute_result"
    }
   ],
   "source": [
    "#count patients-SMS received, did not show, Male without scholarship. 0 symptoms listed \n",
    "df.loc[(df.SMS_received == 1) & (df.No_show == 'Yes') & (df.Gender == 'M') & \n",
    "       (df.Scholarship == 0) & (df.Hipertension == 0) & (df.Diabetes== 0) & (df.Alcoholism ==0) & \n",
    "                                (df.Handcap ==0),'Scholarship':].count()\n",
    "\n",
    "\n",
    "#count patients-SMS received, did not show, Male without scholarship. have 1 or more symptoms listed \n",
    "df.loc[(df.SMS_received == 1) & (df.No_show == 'Yes') & (df.Gender == 'M')\n",
    "       & (df.Scholarship == 0) &((df.Hipertension == 1) | (df.Diabetes== 1)\n",
    "                                 | (df.Alcoholism ==1) | (df.Handcap ==1)),'Scholarship':].count()"
   ]
  },
  {
   "cell_type": "code",
   "execution_count": 328,
   "metadata": {},
   "outputs": [
    {
     "data": {
      "text/plain": [
       "Scholarship     4612\n",
       "Hipertension    4612\n",
       "Diabetes        4612\n",
       "Alcoholism      4612\n",
       "Handcap         4612\n",
       "SMS_received    4612\n",
       "No_show         4612\n",
       "dtype: int64"
      ]
     },
     "execution_count": 328,
     "metadata": {},
     "output_type": "execute_result"
    }
   ],
   "source": [
    "#count patients-SMS received, did not show, Female without scholarship. 0 symptoms listed \n",
    "df.loc[(df.SMS_received == 1) & (df.No_show == 'Yes') & (df.Gender == 'F') & \n",
    "       (df.Scholarship == 0) & (df.Hipertension == 0) & (df.Diabetes== 0) & (df.Alcoholism ==0) & \n",
    "                                (df.Handcap ==0),'Scholarship':].count()\n",
    "\n",
    "#count patients-SMS received, did not show, Female without scholarship. have 1 or more symptoms listed \n",
    "# df.loc[(df.SMS_received == 1) & (df.No_show == 'Yes') & (df.Gender == 'F') & \n",
    "#        (df.Scholarship == 0) &((df.Hipertension == 1) | (df.Diabetes== 1) | \n",
    "#                                (df.Alcoholism ==1) | (df.Handcap ==1)),'Scholarship':].count()"
   ]
  },
  {
   "cell_type": "code",
   "execution_count": 329,
   "metadata": {},
   "outputs": [],
   "source": [
    "category = ['S-0','NS-0','S-1p','NS-1p'] #label on the x-axis\n",
    "male = [154,2459,19,579]  #data selected previously for male\n",
    "female = [799,4612,212,1096] #data selected previously for female\n",
    "xpos = np.arange(len(category))  #get the length of the x-axis"
   ]
  },
  {
   "cell_type": "code",
   "execution_count": 565,
   "metadata": {},
   "outputs": [
    {
     "data": {
      "text/plain": [
       "<matplotlib.legend.Legend at 0x1455d21d0>"
      ]
     },
     "execution_count": 565,
     "metadata": {},
     "output_type": "execute_result"
    },
    {
     "data": {
      "image/png": "[encoded data removed]",
      "text/plain": [
       "<matplotlib.figure.Figure at 0x13860fb38>"
      ]
     },
     "metadata": {},
     "output_type": "display_data"
    }
   ],
   "source": [
    "#draw the bar chart\n",
    "plt.xticks(xpos,category)\n",
    "plt.xlabel('S = Scholarship, NS = No Scholarship, 0 = no ailment, 1p = 1 or more ailment')\n",
    "plt.ylabel('Number of patients')\n",
    "plt.title('This graph shows information about those people who received SMS message but did not show up.')\n",
    "plt.bar(xpos-0.2,male,width = 0.4,label='male')\n",
    "plt.bar(xpos+0.2,female, width = 0.4,label='female')\n",
    "plt.grid()\n",
    "plt.legend()"
   ]
  },
  {
   "cell_type": "markdown",
   "metadata": {},
   "source": [
    "In this graph, we can vividly see that there are more female patient than male patient. The highest figure can be seen in the caregory of femlae-no scholarship with no ailment. The lowest figure can be found in the category of male - scholarship with 1 or more ailment. For the group of people who has received SMS message, they are not likely to show up if they had no ailment and no scholariship. \n",
    "\n",
    "The distribution for group NS-1p and S-0 are quite similar, however, NS-1p is relatively higher when compared to S-0. It is worth note the numebr of male patients drops significantly from NS-1p to S-0.\n",
    "\n",
    "Overll, female patients almost doubles the number of male. At the end, the S-1P group has the lowest figure in the diagram which means that they are likely to show up, which means those people who enrolled in the welfare program in Brazil with ailment are most likely show up to the appointment. \n"
   ]
  },
  {
   "cell_type": "code",
   "execution_count": 336,
   "metadata": {},
   "outputs": [
    {
     "data": {
      "text/html": [
       "<div>\n",
       "<style>\n",
       "    .dataframe thead tr:only-child th {\n",
       "        text-align: right;\n",
       "    }\n",
       "\n",
       "    .dataframe thead th {\n",
       "        text-align: left;\n",
       "    }\n",
       "\n",
       "    .dataframe tbody tr th {\n",
       "        vertical-align: top;\n",
       "    }\n",
       "</style>\n",
       "<table border=\"1\" class=\"dataframe\">\n",
       "  <thead>\n",
       "    <tr style=\"text-align: right;\">\n",
       "      <th></th>\n",
       "      <th>PatientId</th>\n",
       "      <th>AppointmentID</th>\n",
       "      <th>Gender</th>\n",
       "      <th>ScheduledDay</th>\n",
       "      <th>AppointmentDay</th>\n",
       "      <th>Age</th>\n",
       "      <th>Neighbourhood</th>\n",
       "      <th>Scholarship</th>\n",
       "      <th>Hipertension</th>\n",
       "      <th>Diabetes</th>\n",
       "      <th>Alcoholism</th>\n",
       "      <th>Handcap</th>\n",
       "      <th>SMS_received</th>\n",
       "      <th>No_show</th>\n",
       "    </tr>\n",
       "  </thead>\n",
       "  <tbody>\n",
       "    <tr>\n",
       "      <th>0</th>\n",
       "      <td>29872499824296</td>\n",
       "      <td>5642903</td>\n",
       "      <td>F</td>\n",
       "      <td>2016-04-29 18:38:08</td>\n",
       "      <td>2016-04-29</td>\n",
       "      <td>62</td>\n",
       "      <td>JARDIM DA PENHA</td>\n",
       "      <td>0</td>\n",
       "      <td>1</td>\n",
       "      <td>0</td>\n",
       "      <td>0</td>\n",
       "      <td>0</td>\n",
       "      <td>0</td>\n",
       "      <td>No</td>\n",
       "    </tr>\n",
       "    <tr>\n",
       "      <th>1</th>\n",
       "      <td>558997776694438</td>\n",
       "      <td>5642503</td>\n",
       "      <td>M</td>\n",
       "      <td>2016-04-29 16:08:27</td>\n",
       "      <td>2016-04-29</td>\n",
       "      <td>56</td>\n",
       "      <td>JARDIM DA PENHA</td>\n",
       "      <td>0</td>\n",
       "      <td>0</td>\n",
       "      <td>0</td>\n",
       "      <td>0</td>\n",
       "      <td>0</td>\n",
       "      <td>0</td>\n",
       "      <td>No</td>\n",
       "    </tr>\n",
       "    <tr>\n",
       "      <th>2</th>\n",
       "      <td>4262962299951</td>\n",
       "      <td>5642549</td>\n",
       "      <td>F</td>\n",
       "      <td>2016-04-29 16:19:04</td>\n",
       "      <td>2016-04-29</td>\n",
       "      <td>62</td>\n",
       "      <td>MATA DA PRAIA</td>\n",
       "      <td>0</td>\n",
       "      <td>0</td>\n",
       "      <td>0</td>\n",
       "      <td>0</td>\n",
       "      <td>0</td>\n",
       "      <td>0</td>\n",
       "      <td>No</td>\n",
       "    </tr>\n",
       "    <tr>\n",
       "      <th>3</th>\n",
       "      <td>867951213174</td>\n",
       "      <td>5642828</td>\n",
       "      <td>F</td>\n",
       "      <td>2016-04-29 17:29:31</td>\n",
       "      <td>2016-04-29</td>\n",
       "      <td>8</td>\n",
       "      <td>PONTAL DE CAMBURI</td>\n",
       "      <td>0</td>\n",
       "      <td>0</td>\n",
       "      <td>0</td>\n",
       "      <td>0</td>\n",
       "      <td>0</td>\n",
       "      <td>0</td>\n",
       "      <td>No</td>\n",
       "    </tr>\n",
       "    <tr>\n",
       "      <th>4</th>\n",
       "      <td>8841186448183</td>\n",
       "      <td>5642494</td>\n",
       "      <td>F</td>\n",
       "      <td>2016-04-29 16:07:23</td>\n",
       "      <td>2016-04-29</td>\n",
       "      <td>56</td>\n",
       "      <td>JARDIM DA PENHA</td>\n",
       "      <td>0</td>\n",
       "      <td>1</td>\n",
       "      <td>1</td>\n",
       "      <td>0</td>\n",
       "      <td>0</td>\n",
       "      <td>0</td>\n",
       "      <td>No</td>\n",
       "    </tr>\n",
       "  </tbody>\n",
       "</table>\n",
       "</div>"
      ],
      "text/plain": [
       "         PatientId  AppointmentID Gender        ScheduledDay AppointmentDay  \\\n",
       "0   29872499824296        5642903      F 2016-04-29 18:38:08     2016-04-29   \n",
       "1  558997776694438        5642503      M 2016-04-29 16:08:27     2016-04-29   \n",
       "2    4262962299951        5642549      F 2016-04-29 16:19:04     2016-04-29   \n",
       "3     867951213174        5642828      F 2016-04-29 17:29:31     2016-04-29   \n",
       "4    8841186448183        5642494      F 2016-04-29 16:07:23     2016-04-29   \n",
       "\n",
       "   Age      Neighbourhood  Scholarship  Hipertension  Diabetes  Alcoholism  \\\n",
       "0   62    JARDIM DA PENHA            0             1         0           0   \n",
       "1   56    JARDIM DA PENHA            0             0         0           0   \n",
       "2   62      MATA DA PRAIA            0             0         0           0   \n",
       "3    8  PONTAL DE CAMBURI            0             0         0           0   \n",
       "4   56    JARDIM DA PENHA            0             1         1           0   \n",
       "\n",
       "   Handcap  SMS_received No_show  \n",
       "0        0             0      No  \n",
       "1        0             0      No  \n",
       "2        0             0      No  \n",
       "3        0             0      No  \n",
       "4        0             0      No  "
      ]
     },
     "execution_count": 336,
     "metadata": {},
     "output_type": "execute_result"
    }
   ],
   "source": [
    "df.head()"
   ]
  },
  {
   "cell_type": "code",
   "execution_count": 486,
   "metadata": {
    "scrolled": true
   },
   "outputs": [
    {
     "data": {
      "text/plain": [
       "<matplotlib.legend.Legend at 0x136eb1240>"
      ]
     },
     "execution_count": 486,
     "metadata": {},
     "output_type": "execute_result"
    },
    {
     "data": {
      "image/png": "[encoded data removed]",
      "text/plain": [
       "<matplotlib.figure.Figure at 0x1367846a0>"
      ]
     },
     "metadata": {},
     "output_type": "display_data"
    }
   ],
   "source": [
    "#plot line chart for this \n",
    "#separate male and female\n",
    "female_data = df[df.Gender == 'F']\n",
    "female_age_appointmentID = female_data.groupby('Age')['AppointmentID'].count()\n",
    "male_data = df[df.Gender == 'M']\n",
    "male_age_appointmentID = male_data.groupby('Age')['AppointmentID'].count()\n",
    "\n",
    "fig = plt.figure()\n",
    "ax = fig.add_subplot(111)\n",
    "ax.plot(female_age_appointmentID,label = 'female')\n",
    "ax.plot(male_age_appointmentID,label = 'male')\n",
    "ax.set_title('Number of appointments scheduled by gender and by age')\n",
    "ax.set_xlabel('Age')\n",
    "ax.set_ylabel('Number of appointments')\n",
    "ax.yaxis.grid(color='gray', linestyle='dashed')\n",
    "ax.legend(loc = 'right')"
   ]
  },
  {
   "cell_type": "code",
   "execution_count": 519,
   "metadata": {},
   "outputs": [
    {
     "data": {
      "image/png": "[encoded data removed]",
      "text/plain": [
       "<matplotlib.figure.Figure at 0x1415d74e0>"
      ]
     },
     "metadata": {},
     "output_type": "display_data"
    }
   ],
   "source": [
    "#Age vs probability of showing for appointment\n",
    "\n",
    "groupby_age = df.groupby('Age')['No_show'].count() #people counted with group\n",
    "groupby_age.head()\n",
    "\n",
    "df_showed = df[df.No_show == 'No']   #showed up\n",
    "age_grouped_show = df_showed.groupby('Age')['No_show'].count()\n",
    "age = showup_probability_with_age.index.get_values()\n",
    "\n",
    "showup_probability_with_age = age_grouped_show / groupby_age\n",
    "plt.scatter(age,showup_probability_with_age)\n",
    "plt.xlabel('Age')\n",
    "plt.ylabel('Probability of show')\n",
    "plt.title('Age vs Probability of Showing for Appointment')\n",
    "plt.grid(color='gray', linestyle='dashed')\n"
   ]
  },
  {
   "cell_type": "markdown",
   "metadata": {},
   "source": [
    "__Conclusion__\n",
    "====================\n",
    "1. There are more female patients than male patients and infants has the highest appointment frequencies\n",
    "2. Patients around the age of 18 are least likely to show up to an appointment\n",
    "3. Patients with 0 ailments and without scholarship are less likely to show up to an appointment\n",
    "4. Patients with 1 or more ailments and with scholarship are likely to show up to an appointment\n",
    "\n",
    "\n",
    "**Limitations in this dataset**\n",
    "\n",
    "There are many conclusions that can be drawm from this short data analysis that need to be done carefully. None of the trends observed imply causation, just correlation. One important thing to note is that this data spans appointments made in a timeframe of just over 2 months. This is important to consider because it is difficult to make exact predictions given just a small timeframe of data. It would be much better if a whole year or more were considered here. \n"
   ]
  }
 ],
 "metadata": {
  "kernelspec": {
   "display_name": "Python 3",
   "language": "python",
   "name": "python3"
  },
  "language_info": {
   "codemirror_mode": {
    "name": "ipython",
    "version": 3
   },
   "file_extension": ".py",
   "mimetype": "text/x-python",
   "name": "python",
   "nbconvert_exporter": "python",
   "pygments_lexer": "ipython3",
   "version": "3.6.5"
  }
 },
 "nbformat": 4,
 "nbformat_minor": 2
}
